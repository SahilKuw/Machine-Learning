{
  "nbformat": 4,
  "nbformat_minor": 0,
  "metadata": {
    "colab": {
      "provenance": [],
      "authorship_tag": "ABX9TyNf0aewh/RLSG6/4Fj+J6xG"
    },
    "kernelspec": {
      "name": "python3",
      "display_name": "Python 3"
    },
    "language_info": {
      "name": "python"
    }
  },
  "cells": [
    {
      "cell_type": "markdown",
      "source": [
        "# Basic data types"
      ],
      "metadata": {
        "id": "ms4zOo4M3-Ej"
      }
    },
    {
      "cell_type": "code",
      "execution_count": null,
      "metadata": {
        "colab": {
          "base_uri": "https://localhost:8080/"
        },
        "id": "XxvB27EVyfjK",
        "outputId": "2bf51ffd-a402-43b6-e4f5-c862d36966f8"
      },
      "outputs": [
        {
          "output_type": "stream",
          "name": "stdout",
          "text": [
            "<class 'int'>\n",
            "4\n",
            "2\n",
            "6\n",
            "9\n"
          ]
        }
      ],
      "source": [
        "#Integers \n",
        "x = 3\n",
        "#print the type of x\n",
        "print(type(x))\n",
        "# Addition : add 1 to x and print the result\n",
        "print(x + 1)\n",
        "# Subtraction; subtract 1 from x and print the result\n",
        "print(x - 1)\n",
        "# Multiplication; multiply x with 2 and print the result\n",
        "print(x * 2)\n",
        "# Exponentiation; print the square of x\n",
        "print(x ** 2)"
      ]
    },
    {
      "cell_type": "code",
      "source": [
        "#floats\n",
        "y = 2.5\n",
        "#print the type of y\n",
        "print(type(y))\n",
        "#use operator *= to double the value of y and print y \n",
        "y *= 2\n",
        "print(y)\n",
        "#use operator += to add 3 to y and print y \n",
        "y += 3\n",
        "print(y)"
      ],
      "metadata": {
        "colab": {
          "base_uri": "https://localhost:8080/"
        },
        "id": "3tFYHavb4Cb_",
        "outputId": "114585ae-e1b2-4d26-a530-e2284bf49399"
      },
      "execution_count": null,
      "outputs": [
        {
          "output_type": "stream",
          "name": "stdout",
          "text": [
            "<class 'float'>\n",
            "5.0\n",
            "8.0\n"
          ]
        }
      ]
    },
    {
      "cell_type": "code",
      "source": [
        "#Strings \n",
        "s = \"hello\"\n",
        "# Capitalize the above string and print it\n",
        "print(s.capitalize())\n",
        "#Convert the string to uppercase and print it\n",
        "print(s.upper())\n",
        "# Right-justify the string, padding with 2 spaces print it;\n",
        "print(s.rjust(len(s) + 2, \" \"))\n",
        "# Center the string, padding with 2 spaces print it;\n",
        "print(s.center(len(s) + 4, \" \"))\n",
        "# Replace all instances of letter l  with \"(ell)\" and print it;\n",
        "print(s.replace(\"l\", \"(ell)\"))\n",
        "str = \" world \"\n",
        "# Strip leading and trailing whitespace in the above string and print\n",
        "print(str.strip(\" \"))"
      ],
      "metadata": {
        "colab": {
          "base_uri": "https://localhost:8080/"
        },
        "id": "F9arwDBp4EEe",
        "outputId": "dbc7624d-9e1d-4d91-cf99-9ae24a2c02c7"
      },
      "execution_count": null,
      "outputs": [
        {
          "output_type": "stream",
          "name": "stdout",
          "text": [
            "Hello\n",
            "HELLO\n",
            "  hello\n",
            "  hello  \n",
            "he(ell)(ell)o\n",
            "world\n"
          ]
        }
      ]
    },
    {
      "cell_type": "markdown",
      "source": [
        "# Containers"
      ],
      "metadata": {
        "id": "7hWpOoRQ4LrB"
      }
    },
    {
      "cell_type": "code",
      "source": [
        "#Lists\n",
        "#create a list of first five natural numbers\n",
        "list1 = [1,2,3,4]\n",
        "#change the 3rd element to \"foo\" and print list1\n",
        "list1[2] = \"foo\"\n",
        "print(list1)\n",
        "list2 = [\"bar\"]\n",
        "#append list2 to list1 and print the result\n",
        "list1.append(list2)\n",
        "print(list1)\n",
        "#add list2 to list1 using extend and print the result\n",
        "list1.extend(list2)\n",
        "print(list1)\n",
        "#remove last element in list1 using pop and print list1\n",
        "list1.pop()\n",
        "print(list1)\n"
      ],
      "metadata": {
        "id": "lNPgijf14POp",
        "colab": {
          "base_uri": "https://localhost:8080/"
        },
        "outputId": "b7871d72-fd0a-48d4-a6f3-90108bf0e898"
      },
      "execution_count": null,
      "outputs": [
        {
          "output_type": "stream",
          "name": "stdout",
          "text": [
            "[1, 2, 'foo', 4]\n",
            "[1, 2, 'foo', 4, ['bar']]\n",
            "[1, 2, 'foo', 4, ['bar'], 'bar']\n",
            "[1, 2, 'foo', 4, ['bar']]\n"
          ]
        }
      ]
    },
    {
      "cell_type": "code",
      "source": [
        "#Slicing \n",
        "nums = list(range(5))\n",
        "#print a slice from index 2 to 4 (exclusive)\n",
        "print(nums[2:4])\n",
        "#print a slice from index 2 to 4 (exclusive)\n",
        "print(nums[2:4])\n",
        "# Slice indices can be negative; \n",
        "print(nums[:-3]) \n",
        "# Assign the [8,9] new list to a slice from index 2 to 4 (exclusive)\n",
        "new_list = [8, 9]\n",
        "nums[2:4] = new_list\n",
        "print(nums)"
      ],
      "metadata": {
        "id": "FcrZ59UA4Qx7",
        "colab": {
          "base_uri": "https://localhost:8080/"
        },
        "outputId": "db4b7f9b-1757-4630-d259-b729314e1bfd"
      },
      "execution_count": null,
      "outputs": [
        {
          "output_type": "stream",
          "name": "stdout",
          "text": [
            "[2, 3]\n",
            "[2, 3]\n",
            "[0, 1]\n",
            "[0, 1, 8, 9, 4]\n"
          ]
        }
      ]
    },
    {
      "cell_type": "code",
      "source": [
        "#Loops\n",
        "nums = [0, 1, 2, 3, 4]\n",
        "squares = []\n",
        "# append squares of each element in nums to squares using for loop\n",
        "for num in nums:\n",
        "  squares.append(nums[num]**2)\n",
        "print(squares)\n",
        "####\n",
        "\n",
        "animals = ['cat', 'dog', 'monkey']\n",
        "#print index and elements in the list using enumerate and for loop\n",
        "for index, element in enumerate(animals):\n",
        "  print(index, element)\n",
        "\n",
        "#print squares of even numbers using list comprehensions\n",
        "nums = [0, 1, 2, 3, 4]\n",
        "even_squares = [num**2 for num in range(5) if num % 2 == 0]\n",
        "print(even_squares)"
      ],
      "metadata": {
        "id": "sNw8h4_Q4Rg3",
        "colab": {
          "base_uri": "https://localhost:8080/"
        },
        "outputId": "0f56964c-30b7-4f81-fdea-dfc7f4bad13b"
      },
      "execution_count": null,
      "outputs": [
        {
          "output_type": "stream",
          "name": "stdout",
          "text": [
            "[0, 1, 4, 9, 16]\n",
            "0 cat\n",
            "1 dog\n",
            "2 monkey\n",
            "[0, 4, 16]\n"
          ]
        }
      ]
    },
    {
      "cell_type": "code",
      "source": [
        "#Dictionaries\n",
        "#create a dictionary with keys = (cat, dog) and items = (cute,furry)\n",
        "d = {\"cat\":\"cute\", \"dog\":\"furry\"}\n",
        "print(d)\n",
        "#set an entry {fish:wet}\n",
        "d[\"fish\"] = \"wet\"\n",
        "print(d)\n",
        "#remove the entry with key= cat \n",
        "del d[\"cat\"]\n",
        "print(d)\n",
        "# Get an element with a default;\n",
        "print(d.get('monkey', 'N/A'))\n",
        "# get an element with key= fish and print it\n",
        "print(d.get(\"fish\"))\n",
        "#print all keys in dictionary\n",
        "print(d.keys())\n",
        "#print all items in dictionary\n",
        "print(d.items())"
      ],
      "metadata": {
        "id": "yoxWJzTX4ScU",
        "colab": {
          "base_uri": "https://localhost:8080/"
        },
        "outputId": "db9a8777-be9c-4ce3-86f8-f8d1c6536ac1"
      },
      "execution_count": null,
      "outputs": [
        {
          "output_type": "stream",
          "name": "stdout",
          "text": [
            "{'cat': 'cute', 'dog': 'furry'}\n",
            "{'cat': 'cute', 'dog': 'furry', 'fish': 'wet'}\n",
            "{'dog': 'furry', 'fish': 'wet'}\n",
            "N/A\n",
            "wet\n",
            "dict_keys(['dog', 'fish'])\n",
            "dict_items([('dog', 'furry'), ('fish', 'wet')])\n"
          ]
        }
      ]
    },
    {
      "cell_type": "code",
      "source": [
        "#sets \n",
        "#create a set with elements cat, dog and fish\n",
        "s = [\"fish\", \"cat\", \"dog\"]\n",
        "print(s)\n",
        "#add monkey to the set\n",
        "s.append(\"monkey\")\n",
        "print(s)\n",
        "#remove fish from the set \n",
        "s.remove(\"fish\")\n",
        "print(s)\n",
        "#checks if an element is in the set\n",
        "print('fish' in animals)"
      ],
      "metadata": {
        "id": "tQhoIhjH4TQ4",
        "colab": {
          "base_uri": "https://localhost:8080/"
        },
        "outputId": "716a036a-963b-448d-be3c-7a720038f8d5"
      },
      "execution_count": null,
      "outputs": [
        {
          "output_type": "stream",
          "name": "stdout",
          "text": [
            "['fish', 'cat', 'dog']\n",
            "['fish', 'cat', 'dog', 'monkey']\n",
            "['cat', 'dog', 'monkey']\n",
            "False\n"
          ]
        }
      ]
    },
    {
      "cell_type": "markdown",
      "source": [
        "# Numpy"
      ],
      "metadata": {
        "id": "zmNqVTfs4Uq8"
      }
    },
    {
      "cell_type": "code",
      "source": [
        "#importing the numpy package \n",
        "import numpy as np\n",
        "b = np.array([[1,2,3],[4,5,6]])    # Create a rank 2 array\n",
        "#print the shape of the array\n",
        "print(b.shape)\n",
        "#print an array of all zeros of shape(2,2)\n",
        "c = np.zeros([2,2])\n",
        "print(c)\n",
        "#print an array of all ones of shape(1,2)\n",
        "d = np.ones([1,2])\n",
        "print(d)\n",
        "#print an array of shape (3,3) with all elements in array = 7\n",
        "e = np.array([[7,7,7],[7,7,7],[7,7,7]])\n",
        "print(e)\n",
        "#print an array filled with random values of shape (2,2)\n",
        "f = np.random.rand(2,2)\n",
        "print(f)"
      ],
      "metadata": {
        "id": "knE5gZo84VEu",
        "colab": {
          "base_uri": "https://localhost:8080/"
        },
        "outputId": "93c87503-7489-4da5-8ae6-683432679e91"
      },
      "execution_count": null,
      "outputs": [
        {
          "output_type": "stream",
          "name": "stdout",
          "text": [
            "(2, 3)\n",
            "[[0. 0.]\n",
            " [0. 0.]]\n",
            "[[1. 1.]]\n",
            "[[7 7 7]\n",
            " [7 7 7]\n",
            " [7 7 7]]\n",
            "[[0.97481025 0.25003468]\n",
            " [0.87885399 0.98162248]]\n"
          ]
        }
      ]
    },
    {
      "cell_type": "code",
      "source": [
        "#ARRAY INDEXING\n",
        "\n",
        "a = np.array([[1,2,3,4], [5,6,7,8], [9,10,11,12]])\n",
        "# Use slicing to print out the subarray consisting of the first 2 rows and columns 1 and 2;\n",
        "print(a[0:2, 1:3])\n",
        "a = np.array([[1,2,3], [4,5,6], [7,8,9], [10, 11, 12]])\n",
        "b = np.array([0, 2, 0, 1])\n",
        "# print one element from each row of a using the indices in b\n",
        "for item in np.choose(b, a.T):\n",
        "  print(item)\n",
        "# add 10 to one element from each row of a using the indices in b\n",
        "a[np.arange(4),b] += 10\n",
        "print(a)"
      ],
      "metadata": {
        "id": "-UuSwNS64WLz",
        "colab": {
          "base_uri": "https://localhost:8080/"
        },
        "outputId": "a8fe9c77-e53f-4637-9adf-285dbe599502"
      },
      "execution_count": null,
      "outputs": [
        {
          "output_type": "stream",
          "name": "stdout",
          "text": [
            "[[2 3]\n",
            " [6 7]]\n",
            "1\n",
            "6\n",
            "7\n",
            "11\n",
            "[[11  2  3]\n",
            " [ 4  5 16]\n",
            " [17  8  9]\n",
            " [10 21 12]]\n"
          ]
        }
      ]
    },
    {
      "cell_type": "code",
      "source": [
        "#Boolean array indexing\n",
        "a = np.array([[1,2], [3, 4], [5, 6]])\n",
        "#Print a numpy array of Booleans where elements of a are bigger than 2 ,shape=(3,2)\n",
        "y = [[True if i[j] > 2 else False for j in range(len(a)-1)] for i in a]\n",
        "y = np.array(y)\n",
        "print(y)\n",
        "#a rank 1 array consisting of the elements of a that are bigger than 2\n",
        "print(y.flatten())\n",
        "x = np.array([1, 2]) \n",
        "#print data type of the array\n",
        "print(x.dtype)\n",
        "#create an array [[1,2],[3,4]] with data type int64.\n",
        "b = np.array([[1,2],[3,4]], dtype=np.int64)\n",
        "print(b)"
      ],
      "metadata": {
        "id": "VFEqTgX54W5p",
        "colab": {
          "base_uri": "https://localhost:8080/"
        },
        "outputId": "f2a8869d-d444-44ec-a312-7a807cbae74f"
      },
      "execution_count": null,
      "outputs": [
        {
          "output_type": "stream",
          "name": "stdout",
          "text": [
            "[[False False]\n",
            " [ True  True]\n",
            " [ True  True]]\n",
            "[False False  True  True  True  True]\n",
            "int64\n",
            "[[1 2]\n",
            " [3 4]]\n"
          ]
        }
      ]
    },
    {
      "cell_type": "code",
      "source": [
        "#Array math\n",
        "x = np.array([[1,2],[3,4]], dtype=np.float64)\n",
        "y = np.array([[5,6],[7,8]], dtype=np.float64)\n",
        "#print elementwise addition using numpy function\n",
        "print(np.add(y, x))\n",
        "#print elementwise difference using numpy function\n",
        "print(np.subtract(y, x))\n",
        "#print elementwise multiplication using numpy function\n",
        "print(np.multiply(y, x))\n",
        "#print elementwise division using numpy function\n",
        "print(np.divide(y, x))\n",
        "#print elementwise square root using numpy function\n",
        "print(np.sqrt(y, x))"
      ],
      "metadata": {
        "id": "qJg_60j34Xnq",
        "colab": {
          "base_uri": "https://localhost:8080/"
        },
        "outputId": "8e170c70-e755-4add-c2ff-c3d73dd0e5a6"
      },
      "execution_count": null,
      "outputs": [
        {
          "output_type": "stream",
          "name": "stdout",
          "text": [
            "[[ 6.  8.]\n",
            " [10. 12.]]\n",
            "[[4. 4.]\n",
            " [4. 4.]]\n",
            "[[ 5. 12.]\n",
            " [21. 32.]]\n",
            "[[5.         3.        ]\n",
            " [2.33333333 2.        ]]\n",
            "[[2.23606798 2.44948974]\n",
            " [2.64575131 2.82842712]]\n"
          ]
        }
      ]
    },
    {
      "cell_type": "code",
      "source": [
        "x = np.array([[1,2],[3,4]])\n",
        "y = np.array([[5,6],[7,8]])\n",
        "\n",
        "v = np.array([9,10])\n",
        "w = np.array([11, 12])\n",
        "\n",
        "#print Inner product of vectors\n",
        "print(np.inner(x, y))\n",
        "#print matrix / vector product of x and v \n",
        "print(np.dot(x, v)) \n",
        "#print matrix / vector product of x and y \n",
        "print(np.dot(x, y)) "
      ],
      "metadata": {
        "id": "cKHTScyS4YQ7",
        "colab": {
          "base_uri": "https://localhost:8080/"
        },
        "outputId": "cadc1694-c45f-4849-9bfd-bd47ebd83e69"
      },
      "execution_count": null,
      "outputs": [
        {
          "output_type": "stream",
          "name": "stdout",
          "text": [
            "[[17 23]\n",
            " [39 53]]\n",
            "[29 67]\n",
            "[[19 22]\n",
            " [43 50]]\n"
          ]
        }
      ]
    },
    {
      "cell_type": "code",
      "source": [
        "x = np.array([[1,2],[3,4]])\n",
        "#print sum of all elements in array\n",
        "print(x.sum())\n",
        "#print sum of elements in each row\n",
        "print([x[i].sum() for i in range(len(x))])\n",
        "#print sum of elements in each column\n",
        "y = np.array([[x[i][j] for i in range(2)] for j in range(2)])\n",
        "print([y[i].sum() for i in range(len(y))])"
      ],
      "metadata": {
        "id": "2xgAmqkC4ZIn",
        "colab": {
          "base_uri": "https://localhost:8080/"
        },
        "outputId": "cd957dda-33d1-46c3-c84d-d6b7fff67887"
      },
      "execution_count": null,
      "outputs": [
        {
          "output_type": "stream",
          "name": "stdout",
          "text": [
            "10\n",
            "[3, 7]\n",
            "[4, 6]\n"
          ]
        }
      ]
    },
    {
      "cell_type": "code",
      "source": [
        "x = np.array([[1,2,3], [4,5,6], [7,8,9], [10, 11, 12]])\n",
        "v = np.array([1, 0, 1])\n",
        "#Create an empty matrix with the same shape as x and print \n",
        "y = np.empty(x.shape)\n",
        "print(y)\n",
        "# create an array y by adding  the vector v to each row of the matrix x with an explicit loop \n",
        "#print y\n",
        "y = np.array([x[i] + v for i in range(4)])\n",
        "print(y)\n",
        "#Add v to each row of x using broadcasting\n",
        "#store the result in matrix y and print y\n",
        "y = x + v\n",
        "print(y)"
      ],
      "metadata": {
        "id": "Q6eO6KmM4Z3z",
        "colab": {
          "base_uri": "https://localhost:8080/"
        },
        "outputId": "966549d7-f9ca-4ca3-c53c-3b4d1e1debe7"
      },
      "execution_count": null,
      "outputs": [
        {
          "output_type": "stream",
          "name": "stdout",
          "text": [
            "[[4.9e-324 9.9e-324 1.5e-323]\n",
            " [2.0e-323 2.5e-323 3.0e-323]\n",
            " [3.5e-323 4.0e-323 4.4e-323]\n",
            " [4.9e-323 5.4e-323 5.9e-323]]\n",
            "[[ 2  2  4]\n",
            " [ 5  5  7]\n",
            " [ 8  8 10]\n",
            " [11 11 13]]\n",
            "[[ 2  2  4]\n",
            " [ 5  5  7]\n",
            " [ 8  8 10]\n",
            " [11 11 13]]\n"
          ]
        }
      ]
    },
    {
      "cell_type": "code",
      "source": [
        "v = np.array([1,2,3])  \n",
        "w = np.array([4,5])\n",
        "#reshape v to(3,1) using numpy function and print it\n",
        "print(np.reshape(v, (3,1)))"
      ],
      "metadata": {
        "id": "EtcCNcP34abB",
        "colab": {
          "base_uri": "https://localhost:8080/"
        },
        "outputId": "b77a9e1f-84c6-4629-be76-a7101d63705d"
      },
      "execution_count": null,
      "outputs": [
        {
          "output_type": "stream",
          "name": "stdout",
          "text": [
            "[[1]\n",
            " [2]\n",
            " [3]]\n"
          ]
        }
      ]
    }
  ]
}