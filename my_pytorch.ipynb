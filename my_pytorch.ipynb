{
  "nbformat": 4,
  "nbformat_minor": 0,
  "metadata": {
    "colab": {
      "provenance": [],
      "authorship_tag": "ABX9TyOwzCAQ1+MyiKbH2dKmf5RH"
    },
    "kernelspec": {
      "name": "python3",
      "display_name": "Python 3"
    },
    "language_info": {
      "name": "python"
    }
  },
  "cells": [
    {
      "cell_type": "code",
      "source": [
        "!pip install torchviz"
      ],
      "metadata": {
        "colab": {
          "base_uri": "https://localhost:8080/"
        },
        "id": "J6x5yyTGp6fe",
        "outputId": "dc1de6ec-c67e-4a2e-bc84-eba15b55bfe5"
      },
      "execution_count": null,
      "outputs": [
        {
          "output_type": "stream",
          "name": "stdout",
          "text": [
            "Looking in indexes: https://pypi.org/simple, https://us-python.pkg.dev/colab-wheels/public/simple/\n",
            "Requirement already satisfied: torchviz in /usr/local/lib/python3.8/dist-packages (0.0.2)\n",
            "Requirement already satisfied: graphviz in /usr/local/lib/python3.8/dist-packages (from torchviz) (0.10.1)\n",
            "Requirement already satisfied: torch in /usr/local/lib/python3.8/dist-packages (from torchviz) (1.13.1+cu116)\n",
            "Requirement already satisfied: typing-extensions in /usr/local/lib/python3.8/dist-packages (from torch->torchviz) (4.4.0)\n"
          ]
        }
      ]
    },
    {
      "cell_type": "code",
      "execution_count": null,
      "metadata": {
        "id": "C7pqy4uQlf4R",
        "outputId": "f86cdf83-568b-4557-a7c3-a77dce656df3",
        "colab": {
          "base_uri": "https://localhost:8080/"
        }
      },
      "outputs": [
        {
          "output_type": "stream",
          "name": "stdout",
          "text": [
            "Data parsing is done!\n"
          ]
        }
      ],
      "source": [
        "# Import relevant python modules\n",
        "import sys, os\n",
        "import numpy as np\n",
        "import pandas as pd\n",
        "from sklearn.model_selection import train_test_split\n",
        "import warnings\n",
        "warnings.filterwarnings('ignore')\n",
        "\n",
        "# The datasets needed are computed by the `ComputeGluon.py` script in PseudoData\n",
        "filename1='https://raw.githubusercontent.com/rabah-khalek/TF_tutorials/master/PseudoData/gluon_NNPDF31_nlo_pch_as_0118_xmin1e-3.dat' \n",
        "filename2='https://raw.githubusercontent.com/rabah-khalek/TF_tutorials/master/PseudoData/gluon_NNPDF31_nlo_pch_as_0118_xmin1e-4.dat' \n",
        "filename3='https://raw.githubusercontent.com/rabah-khalek/TF_tutorials/master/PseudoData/gluon_NNPDF31_nlo_pch_as_0118_xmin1e-5.dat' \n",
        "filename4='https://raw.githubusercontent.com/rabah-khalek/TF_tutorials/master/PseudoData/gluon_NNPDF31_nlo_pch_as_0118_xmin1e-6.dat' \n",
        "\n",
        "# Headers to skip\n",
        "lines_to_skip = 5\n",
        "\n",
        "# Defining the columns (cv = central value, sd = standard deviation)\n",
        "columns=[\"x\", \"gluon_cv\", \"gluon_sd\"]\n",
        "\n",
        "# Loading data from txt file\n",
        "# Change filename1 to another filename for data that extends to lower x \n",
        "# (see exercises at the bottom of this notebook)\n",
        "df = pd.read_csv(filename1, \n",
        "                 sep=\"\\s+\", \n",
        "                 skiprows=lines_to_skip, \n",
        "                 usecols=[0,1,2], \n",
        "                 names=columns)\n",
        "\n",
        "# Splitting data randomly to train and test using the sklearn library\n",
        "df_train, df_test = train_test_split(df,test_size=0.2,random_state=42)\n",
        "\n",
        "# Sort the split data according to their x values\n",
        "df_train = df_train.sort_values(\"x\")\n",
        "df_test = df_test.sort_values(\"x\")\n",
        "\n",
        "print(\"Data parsing is done!\")"
      ]
    },
    {
      "cell_type": "code",
      "source": [
        "print(df_train)"
      ],
      "metadata": {
        "colab": {
          "base_uri": "https://localhost:8080/"
        },
        "id": "M5WDfUDMrEj-",
        "outputId": "73b6766d-7aae-40ea-fc9a-b65c4f08a5a2"
      },
      "execution_count": null,
      "outputs": [
        {
          "output_type": "stream",
          "name": "stdout",
          "text": [
            "            x  gluon_cv  gluon_sd\n",
            "0    0.001000  4.480675  0.523964\n",
            "1    0.001007  4.478519  0.520743\n",
            "2    0.001014  4.476361  0.517539\n",
            "3    0.001021  4.474202  0.514349\n",
            "4    0.001028  4.472040  0.511176\n",
            "..        ...       ...       ...\n",
            "993  0.952796 -0.001109  0.003990\n",
            "994  0.959401 -0.000878  0.003423\n",
            "996  0.972747 -0.000634  0.002707\n",
            "997  0.979490 -0.000494  0.002179\n",
            "999  0.993116 -0.000144  0.000697\n",
            "\n",
            "[800 rows x 3 columns]\n"
          ]
        }
      ]
    },
    {
      "cell_type": "code",
      "source": [
        "import numpy as np\n",
        "import torch\n",
        "import torch.optim as optim\n",
        "import torch.nn as nn\n",
        "from torchviz import make_dot\n",
        "from torch.utils.data import Dataset, TensorDataset, DataLoader\n",
        "import torchvision.datasets as datasets\n",
        "import torchvision.transforms as transforms\n",
        "from torch.utils.data.dataset import random_split"
      ],
      "metadata": {
        "id": "_5A7yYKhpp4P"
      },
      "execution_count": null,
      "outputs": []
    },
    {
      "cell_type": "code",
      "execution_count": null,
      "metadata": {
        "id": "z4-H5pIDoTsD"
      },
      "outputs": [],
      "source": [
        "import torch.nn as nn\n",
        "import torch.nn.functional as F\n",
        "\n",
        "\n",
        "##################################################################\n",
        "# Building NN from the PyTorch API (nn.Linear)\n",
        "##################################################################\n",
        "\n",
        "class Torch_Model(nn.Module):\n",
        "    \n",
        "    def __init__(self, n_features, n_neurons, n_outputs):\n",
        "\n",
        "        super(Torch_Model, self).__init__()\n",
        "        \n",
        "        self.fc1 = nn.Linear(n_features, n_neurons) # Hidden Layer 1\n",
        "        self.sig1 = nn.Sigmoid()\n",
        "        self.fc2 = nn.Linear(n_neurons, n_outputs) # Output Layer\n",
        "\n",
        "    # Evaluates and returns output\n",
        "    def forward(self, x):\n",
        "        out = self.fc1(x)\n",
        "        out = self.sig1(out)\n",
        "        out = self.fc2(out)\n",
        "        return out"
      ]
    },
    {
      "cell_type": "code",
      "source": [
        "# Set device\n",
        "device = torch.device('cuda' if torch.cuda.is_available() else 'cpu')"
      ],
      "metadata": {
        "id": "NSwYnGISSiVc"
      },
      "execution_count": null,
      "outputs": []
    },
    {
      "cell_type": "code",
      "source": [
        "# Hyperparameters\n",
        "n_features = 1\n",
        "n_neurons = 20\n",
        "n_outputs = 1\n",
        "learning_rate = 0.001\n",
        "batch_size = 20\n",
        "n_epochs = 1000"
      ],
      "metadata": {
        "id": "7UoAUmwtS0zo"
      },
      "execution_count": null,
      "outputs": []
    },
    {
      "cell_type": "code",
      "source": [
        "# Load data\n",
        "\n",
        "#print(df_train.to_numpy())\n",
        "#train_dataset, val_dataset = random_split(df_train.to_numpy(), [80, 20])\n",
        "\n",
        "train_loader = DataLoader(df_train.to_numpy(), batch_size=batch_size)\n",
        "val_loader = DataLoader(df_test.to_numpy(), batch_size=batch_size)\n",
        "\n"
      ],
      "metadata": {
        "id": "d8VT9kIcTQAn"
      },
      "execution_count": null,
      "outputs": []
    },
    {
      "cell_type": "code",
      "source": [
        "# Initialize network\n",
        "model = Torch_Model(n_features, n_neurons, n_outputs).to(device)"
      ],
      "metadata": {
        "id": "_0DAX9jfiyGJ"
      },
      "execution_count": null,
      "outputs": []
    },
    {
      "cell_type": "code",
      "source": [
        "# Loss and optimizer\n",
        "criterion = nn.CrossEntropyLoss()\n",
        "optimizer = optim.Adam(model.parameters(), lr=learning_rate)"
      ],
      "metadata": {
        "id": "PupCzpAJjMLo"
      },
      "execution_count": null,
      "outputs": []
    },
    {
      "cell_type": "code",
      "source": [
        "def make_train_step(model, loss_fn, optimizer):\n",
        "    def train_step(x, y, dy):\n",
        "        model.train()\n",
        "        yhat = model(x)\n",
        "        loss = loss_fn(y/dy, yhat/dy)\n",
        "        loss.backward()\n",
        "        optimizer.step()\n",
        "        optimizer.zero_grad()\n",
        "        return loss.item()\n",
        "    return train_step"
      ],
      "metadata": {
        "id": "wwN1dgYXuq8c"
      },
      "execution_count": null,
      "outputs": []
    },
    {
      "cell_type": "code",
      "source": [
        "import matplotlib.pyplot as plt\n",
        "import torch\n",
        "from torch.utils.data import TensorDataset, DataLoader\n",
        "\n",
        "# Set device\n",
        "device = torch.device('cuda' if torch.cuda.is_available() else 'cpu')\n",
        "\n",
        "# Prepare data\n",
        "x_train = torch.tensor(df_train['x'].values.reshape(-1, 1)).float().to(device)\n",
        "y_train = torch.tensor(df_train['gluon_cv'].values.reshape(-1, 1)).float().to(device)\n",
        "dy_train = torch.tensor(df_train['gluon_sd'].values.reshape(-1, 1)).float().to(device)\n",
        "\n",
        "train_dataset = TensorDataset(x_train, y_train, dy_train)\n",
        "train_loader = DataLoader(train_dataset, batch_size=batch_size)\n",
        "\n",
        "x_test = torch.tensor(df_test['x'].values.reshape(-1, 1)).float().to(device)\n",
        "y_test = torch.tensor(df_test['gluon_cv'].values.reshape(-1, 1)).float().to(device)\n",
        "dy_test = torch.tensor(df_test['gluon_sd'].values.reshape(-1, 1)).float().to(device)\n",
        "\n",
        "test_dataset = TensorDataset(x_test, y_test, dy_test)\n",
        "test_loader = DataLoader(test_dataset, batch_size=batch_size)\n",
        "\n",
        "# Initialize network\n",
        "model = Torch_Model(n_features, n_neurons, n_outputs).to(device)\n",
        "\n",
        "# Loss and optimizer\n",
        "criterion = nn.MSELoss()\n",
        "optimizer = optim.Adam(model.parameters(), lr=learning_rate)\n",
        "\n",
        "train_step = make_train_step(model, criterion, optimizer)\n",
        "\n",
        "train_losses = []\n",
        "test_losses = []\n",
        "for epoch in range(n_epochs):\n",
        "    train_loss = 0\n",
        "    for x_batch, y_batch, dy_batch in train_loader:\n",
        "        loss = train_step(x_batch, y_batch, dy_batch)\n",
        "        train_loss += loss\n",
        "    train_loss /= len(train_loader)\n",
        "    train_losses.append(train_loss)\n",
        "\n",
        "    with torch.no_grad():\n",
        "        test_loss = 0\n",
        "        for x_batch, y_batch, dy_batch in test_loader:\n",
        "            model.eval()\n",
        "            y_pred = model(x_batch)\n",
        "            loss = criterion(y_batch / dy_batch, y_pred / dy_batch)\n",
        "            test_loss += loss.item()\n",
        "        test_loss /= len(test_loader)\n",
        "        test_losses.append(test_loss)\n",
        "\n",
        "    if (epoch+1) % 100 == 0:\n",
        "        print(f'Epoch [{epoch+1}/{n_epochs}], Train Loss: {train_loss:.4f}, Test Loss: {test_loss:.4f}')\n",
        "\n",
        "# Plot train and test losses\n",
        "plt.plot(train_losses, label='Train Loss')\n",
        "plt.plot(test_losses, label='Test Loss')\n",
        "plt.xlabel('Epoch')\n",
        "plt.ylabel('Loss')\n",
        "plt.legend()\n",
        "plt.show()\n",
        "\n",
        "# Visualize model graph\n",
        "x_sample = torch.tensor([[0.1]]).float().to(device)\n",
        "make_dot(model(x_sample), params=dict(model.named_parameters()))\n",
        "plt.show()\n",
        "\n",
        "# Evaluate the model on the test set\n",
        "model.eval()\n",
        "y_pred = model(x_test)\n",
        "\n",
        "# Plot predictions vs true values\n",
        "plt.plot(x_test.cpu().numpy(), y_test.cpu().numpy(), label='True Values')\n",
        "plt.plot(x_test.cpu().numpy(), y_pred.detach().cpu().numpy(), label='Predictions')\n",
        "plt.xlabel('x')\n",
        "plt.ylabel('gluon PDF')\n",
        "plt.legend()\n",
        "plt.show()"
      ],
      "metadata": {
        "colab": {
          "base_uri": "https://localhost:8080/",
          "height": 715
        },
        "id": "SUudcRevMMZO",
        "outputId": "35108279-f01d-4e44-8813-0dedfe2c1aa5"
      },
      "execution_count": null,
      "outputs": [
        {
          "output_type": "stream",
          "name": "stdout",
          "text": [
            "Epoch [100/1000], Train Loss: 231.7078, Test Loss: 239.8486\n",
            "Epoch [200/1000], Train Loss: 219.9465, Test Loss: 224.8627\n",
            "Epoch [300/1000], Train Loss: 204.9591, Test Loss: 208.6491\n",
            "Epoch [400/1000], Train Loss: 180.5981, Test Loss: 182.5118\n",
            "Epoch [500/1000], Train Loss: 141.8665, Test Loss: 141.5229\n",
            "Epoch [600/1000], Train Loss: 90.4365, Test Loss: 88.3229\n",
            "Epoch [700/1000], Train Loss: 46.0277, Test Loss: 44.6595\n",
            "Epoch [800/1000], Train Loss: 26.2510, Test Loss: 25.4453\n",
            "Epoch [900/1000], Train Loss: 16.5540, Test Loss: 16.1026\n",
            "Epoch [1000/1000], Train Loss: 10.6058, Test Loss: 10.2216\n"
          ]
        },
        {
          "output_type": "display_data",
          "data": {
            "text/plain": [
              "<Figure size 432x288 with 1 Axes>"
            ],
            "image/png": "[encoded data removed]"
          },
          "metadata": {
            "needs_background": "light"
          }
        },
        {
          "output_type": "display_data",
          "data": {
            "text/plain": [
              "<Figure size 432x288 with 1 Axes>"
            ],
            "image/png": "[encoded data removed]"
          },
          "metadata": {
            "needs_background": "light"
          }
        }
      ]
    }
  ]
}